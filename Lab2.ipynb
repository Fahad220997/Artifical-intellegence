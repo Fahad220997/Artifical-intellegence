{
  "nbformat": 4,
  "nbformat_minor": 0,
  "metadata": {
    "colab": {
      "provenance": [],
      "toc_visible": true
    },
    "kernelspec": {
      "name": "python3",
      "display_name": "Python 3"
    },
    "language_info": {
      "name": "python"
    }
  },
  "cells": [
    {
      "cell_type": "code",
      "execution_count": 23,
      "metadata": {
        "colab": {
          "base_uri": "https://localhost:8080/"
        },
        "id": "BfiNK3f_BRrp",
        "outputId": "b517fcae-81f7-49c8-b16f-bbde000be268"
      },
      "outputs": [
        {
          "output_type": "stream",
          "name": "stdout",
          "text": [
            "[10, 2, 3, 4, 5, 6, 8, 4, 3, 6, 7]\n",
            "sum 58\n",
            "max 10\n",
            "min 2\n",
            "[10, 2, 3, 4, 5, 6, 8, 4, 3, 6, 81, 82]\n",
            "[82, 81, 6, 3, 4, 8, 6, 5, 4, 3, 2, 10]\n",
            "[2, 3, 3, 4, 4, 5, 6, 6, 8, 10, 81, 82]\n",
            "[82, 81, 10, 8, 6, 6, 5, 4, 4, 3, 3, 2]\n",
            "Tupple:\n",
            "('apple', 'banana', 'cherry', 'orange')\n",
            "second elemet: banana\n",
            "Last elemet: orange\n",
            "modified list: ['apple', 'banana', 'orange', 'melon']\n",
            "Union: {1, 2, 3, 4, 5}\n",
            "Intersection: {3}\n",
            "Difference (A - B): {1, 2}\n",
            "keys: dict_keys(['Ali', 'Sara', 'Abbas'])\n",
            "values: dict_values([85, 90, 95])\n"
          ]
        }
      ],
      "source": [
        "#create list with 10 integers\n",
        "my_list = [10,2,3,4,5,6,8,4,3,6,7]\n",
        "print(my_list)\n",
        "#sum\n",
        "print('sum',sum(my_list))\n",
        "#max\n",
        "print('max',max(my_list))\n",
        "#min\n",
        "print('min',min(my_list))\n",
        "#Add element\n",
        "my_list.append(81)\n",
        "my_list.append(82)\n",
        "#Remove element\n",
        "my_list.remove(7)\n",
        "print(my_list)\n",
        "#reverse list\n",
        "my_list.reverse()\n",
        "print(my_list)\n",
        "#sort-list\n",
        "my_list.sort()\n",
        "print(my_list)\n",
        "#reverse-list\n",
        "my_list.reverse()\n",
        "print(my_list)\n",
        "\n",
        "\n",
        "#Tuple\n",
        "print('Tupple:')\n",
        "fruits = (\"apple\", \"banana\", \"cherry\", \"orange\")\n",
        "print(fruits)\n",
        "print('second elemet:',fruits[1])\n",
        "print('Last elemet:',fruits[3])\n",
        "\n",
        "#tuples are immutable so we have to change tuples into list first\n",
        "fruits = ['apple', 'banana', 'grape', 'melon']  # Example list\n",
        "fruit_list = list(fruits)\n",
        "fruit_list[2] = 'orange'\n",
        "print('modified list:', fruit_list)\n",
        "\n",
        "#union ,intersection and diffrence\n",
        "# Define two sets\n",
        "A = {1, 2, 3}\n",
        "B = {3, 4, 5}\n",
        "\n",
        "# Union: elements in A or B or both\n",
        "union = A.union(B)\n",
        "print(\"Union:\", union)\n",
        "\n",
        "# Intersection: elements common to both A and B\n",
        "intersection = A.intersection(B)\n",
        "print(\"Intersection:\", intersection)\n",
        "# Difference: elements in A but not in B\n",
        "difference = A.difference(B)\n",
        "print(\"Difference (A - B):\", difference)\n",
        "\n",
        "#Dictionary\n",
        "students = {'Ali' :85,'Sara':90 ,'Abbas':95 }\n",
        "\n",
        "#print keys and values\n",
        "print('keys:',students.keys())\n",
        "print('values:',students.values())"
      ]
    }
  ]
}